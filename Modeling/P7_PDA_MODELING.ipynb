{
  "nbformat": 4,
  "nbformat_minor": 0,
  "metadata": {
    "colab": {
      "name": "P7 - Modeling",
      "provenance": [],
      "collapsed_sections": []
    },
    "kernelspec": {
      "display_name": "Python 3",
      "name": "python3"
    }
  },
  "cells": [
    {
      "cell_type": "markdown",
      "metadata": {
        "id": "HtF8gI1ILFiS"
      },
      "source": [
        "# **Introduction**\n",
        "\n",
        "![alt text](https://miro.medium.com/max/1200/1*3ZbsByIqO_fze9p9-dmPJg.png)\n",
        "\n",
        "Sering kita mendengar bahwa Machine Learning adalah alasan seseorang memasuki bidang Data Science. Walau begitu, kebanyakan individu hanya mampu membuat dan menggunakan model Machine Learning ini tanpa paham bagaimana mereka bekerja; atau bahkan menjelaskan hal yang mampu didapatkan melalui model Machine Learning. Padahal, kemampuan untuk memahami model Machine Learning adalah hal yang harus dimiliki untuk menjadi seorang Data Scientist yang sesungguhnya. Oleh karena itu, pada pertemuan hari ini kami ingin menjelaskan beberapa teknik yang bisa digunakan untuk mendapatkan Insight dari suatu model Machine Learning."
      ]
    },
    {
      "cell_type": "markdown",
      "metadata": {
        "id": "Xx1XnXlvJeRz"
      },
      "source": [
        "# **Data Understanding : `Titanic Disaster`**\n",
        "\n",
        "Tahap awal dari proses pembuatan model ML oleh seorang data scientist adalah mengenal datanya terlebih dahulu untuk itu kita coba kenalan dengan dataset **`Titanic Disaster`** yang akan kita gunakan pada pertemuan hari ini\n",
        "\n",
        "![alttext](https://media.nationalgeographic.org/assets/photos/000/273/27302_c0-41-990-701_r1050x700.jpg?d4ccf3044d9da0d0118103be3a76bd1319370847)\n",
        "\n",
        "Tenggelamnya kapal titanic adalah salah satu peristiwa yang paling kelam dalam dunia pelayaran. Pada 15 April 1912 pada pelayaran perdananya kapal ini di sebut sebut **Tidak Bisa Di Tenggelamkan** namun pada kenyataanya kapal ini akhirnya tenggelam juga setelah menghantam bongkahan es berukuran besar naasnya pada kapal ini tidak terdapat **lifeboat** yang mencukupi untuk seluruh penumpang yang pada akhirnya mengakibatkan meninggalnya 1502 orang dari total 2224 penumpang dan cru kapal\n",
        "\n",
        "\n",
        "\n",
        "**Variable / Atribut dalam dataset:**\n",
        "\n",
        "\n",
        "*   PassengerID : Id penumpang\n",
        "*   Pclass : Kelas penumpang (1 = VIP, 2 = Bisnis, 3 = Ekonomi)\n",
        "*   Name : Nama penumpang\n",
        "*   Sex : Jenis Kelamin\n",
        "*   Age : Umur\n",
        "*   SibSp : Jumlah sanak saudara di kapal\n",
        "*   Parch : Jumlah orang tua / anak dari penumpang\n",
        "*   Tiket : Nomor Tiket\n",
        "*   Fare : Harga tiket\n",
        "*   Cabin : Nomor Kabin\n",
        "*   Embarked : Asal penumpang (C = Cherbourg, Q = Queenstown, S = Southampton)\n",
        "\n",
        "**Class / Kategori pada dataset**\n",
        "* Survived = penumpang selamat / tidak\n",
        "\n",
        "\n",
        "**Tujuan Analisa Dataset Titanic**\n",
        "1. Mengetahui pemumpang seperti apa yang selamat dari peristiwa mengerikan ini\n",
        "2. Membuat model machine learning dengan prediksi terbaik\n",
        "\n",
        "\n"
      ]
    },
    {
      "cell_type": "markdown",
      "metadata": {
        "id": "eOydGTqJcRxX"
      },
      "source": [
        "# **Exploratory Data Analysis (EDA)**\n",
        "\n",
        "\n",
        "![alttext](https://miro.medium.com/max/2560/1*Ptv1_9wX9O2Rm2IBklyufw.png)\n",
        "\n",
        "Ok teman teman untuk tahap berikutnya kita akan mencoba untuk melakukan EDA seperti yang sudah di bahas pada pertemuan ke-4. Berikut adalah hal hal yang akan kita lakukan pada tahapan ini:\n",
        "\n",
        "\n",
        "\n",
        "1.   Mengekstrak variabel penting dan mengabaikan atau menghapus ariabel yang tidak berguna\n",
        "2.   Mengidentifikasi pencilan(outliers), nilai yang hilang(missing values), atau kesalahan manusia (human error)\n",
        "3.   Memahami hubungan, atau kekurangan, antar variabel\n",
        "\n",
        "\n"
      ]
    },
    {
      "cell_type": "markdown",
      "metadata": {
        "id": "XwlZYwrAQmJ1"
      },
      "source": [
        "## **Data Wrangling**\n",
        "\n",
        "**link download dataset:**\n",
        "https://drive.google.com/file/d/1WFL0vSHCGW_eTp72KlBiZQWrGwNrvryy/view?usp=sharing\n",
        "\n"
      ]
    },
    {
      "cell_type": "markdown",
      "metadata": {
        "id": "UmAsxWRnWX1Y"
      },
      "source": [
        "**Pertama tama mari kita inputkan dataset Titanic ke colab**\n",
        "\n",
        "silahkan teman teman ketikan syntax berikut\n",
        "\n",
        "\n",
        "\n",
        "```\n",
        "# memanggil library\n",
        "import pandas as pd\n",
        "\n",
        "\n",
        "# mengupload data di komputer menggunakan Google\n",
        "from google.colab import files\n",
        "files.upload()\n",
        "\n",
        "# membaca data dan menampilkannya\n",
        "data = pd.read_csv('titanic.csv')\n",
        "data\n",
        "```\n",
        "\n"
      ]
    },
    {
      "cell_type": "code",
      "metadata": {
        "colab": {
          "resources": {
            "http://localhost:8080/nbextensions/google.colab/files.js": {
              "data": "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",
              "ok": true,
              "headers": [
                [
                  "content-type",
                  "application/javascript"
                ]
              ],
              "status": 200,
              "status_text": ""
            }
          },
          "base_uri": "https://localhost:8080/",
          "height": 458
        },
        "id": "d8byRogRd0l8",
        "outputId": "16285c3c-6123-4b2c-f2e4-4084605eec49"
      },
      "source": [
        "# memanggil library\n",
        "import pandas as pd\n",
        " \n",
        " \n",
        "# mengupload data di komputer menggunakan Google\n",
        "from google.colab import files\n",
        "files.upload()\n",
        " \n",
        "# membaca data dan menampilkannya\n",
        "data = pd.read_csv('titanic.csv')\n",
        "data"
      ],
      "execution_count": null,
      "outputs": [
        {
          "output_type": "display_data",
          "data": {
            "text/html": [
              "\n",
              "     <input type=\"file\" id=\"files-f8bd16cb-ef13-4b16-aedc-0f03c77b2a40\" name=\"files[]\" multiple disabled\n",
              "        style=\"border:none\" />\n",
              "     <output id=\"result-f8bd16cb-ef13-4b16-aedc-0f03c77b2a40\">\n",
              "      Upload widget is only available when the cell has been executed in the\n",
              "      current browser session. Please rerun this cell to enable.\n",
              "      </output>\n",
              "      <script src=\"/nbextensions/google.colab/files.js\"></script> "
            ],
            "text/plain": [
              "<IPython.core.display.HTML object>"
            ]
          },
          "metadata": {
            "tags": []
          }
        },
        {
          "output_type": "stream",
          "text": [
            "Saving titanic.csv to titanic.csv\n"
          ],
          "name": "stdout"
        },
        {
          "output_type": "execute_result",
          "data": {
            "text/html": [
              "<div>\n",
              "<style scoped>\n",
              "    .dataframe tbody tr th:only-of-type {\n",
              "        vertical-align: middle;\n",
              "    }\n",
              "\n",
              "    .dataframe tbody tr th {\n",
              "        vertical-align: top;\n",
              "    }\n",
              "\n",
              "    .dataframe thead th {\n",
              "        text-align: right;\n",
              "    }\n",
              "</style>\n",
              "<table border=\"1\" class=\"dataframe\">\n",
              "  <thead>\n",
              "    <tr style=\"text-align: right;\">\n",
              "      <th></th>\n",
              "      <th>PassengerId</th>\n",
              "      <th>Survived</th>\n",
              "      <th>Pclass</th>\n",
              "      <th>Name</th>\n",
              "      <th>Sex</th>\n",
              "      <th>Age</th>\n",
              "      <th>SibSp</th>\n",
              "      <th>Parch</th>\n",
              "      <th>Ticket</th>\n",
              "      <th>Fare</th>\n",
              "      <th>Cabin</th>\n",
              "      <th>Embarked</th>\n",
              "    </tr>\n",
              "  </thead>\n",
              "  <tbody>\n",
              "    <tr>\n",
              "      <th>0</th>\n",
              "      <td>1</td>\n",
              "      <td>0</td>\n",
              "      <td>3</td>\n",
              "      <td>Braund, Mr. Owen Harris</td>\n",
              "      <td>male</td>\n",
              "      <td>22.0</td>\n",
              "      <td>1</td>\n",
              "      <td>0</td>\n",
              "      <td>A/5 21171</td>\n",
              "      <td>7.2500</td>\n",
              "      <td>NaN</td>\n",
              "      <td>S</td>\n",
              "    </tr>\n",
              "    <tr>\n",
              "      <th>1</th>\n",
              "      <td>2</td>\n",
              "      <td>1</td>\n",
              "      <td>1</td>\n",
              "      <td>Cumings, Mrs. John Bradley (Florence Briggs Th...</td>\n",
              "      <td>female</td>\n",
              "      <td>38.0</td>\n",
              "      <td>1</td>\n",
              "      <td>0</td>\n",
              "      <td>PC 17599</td>\n",
              "      <td>71.2833</td>\n",
              "      <td>C85</td>\n",
              "      <td>C</td>\n",
              "    </tr>\n",
              "    <tr>\n",
              "      <th>2</th>\n",
              "      <td>3</td>\n",
              "      <td>1</td>\n",
              "      <td>3</td>\n",
              "      <td>Heikkinen, Miss. Laina</td>\n",
              "      <td>female</td>\n",
              "      <td>26.0</td>\n",
              "      <td>0</td>\n",
              "      <td>0</td>\n",
              "      <td>STON/O2. 3101282</td>\n",
              "      <td>7.9250</td>\n",
              "      <td>NaN</td>\n",
              "      <td>S</td>\n",
              "    </tr>\n",
              "    <tr>\n",
              "      <th>3</th>\n",
              "      <td>4</td>\n",
              "      <td>1</td>\n",
              "      <td>1</td>\n",
              "      <td>Futrelle, Mrs. Jacques Heath (Lily May Peel)</td>\n",
              "      <td>female</td>\n",
              "      <td>35.0</td>\n",
              "      <td>1</td>\n",
              "      <td>0</td>\n",
              "      <td>113803</td>\n",
              "      <td>53.1000</td>\n",
              "      <td>C123</td>\n",
              "      <td>S</td>\n",
              "    </tr>\n",
              "    <tr>\n",
              "      <th>4</th>\n",
              "      <td>5</td>\n",
              "      <td>0</td>\n",
              "      <td>3</td>\n",
              "      <td>Allen, Mr. William Henry</td>\n",
              "      <td>male</td>\n",
              "      <td>35.0</td>\n",
              "      <td>0</td>\n",
              "      <td>0</td>\n",
              "      <td>373450</td>\n",
              "      <td>8.0500</td>\n",
              "      <td>NaN</td>\n",
              "      <td>S</td>\n",
              "    </tr>\n",
              "    <tr>\n",
              "      <th>...</th>\n",
              "      <td>...</td>\n",
              "      <td>...</td>\n",
              "      <td>...</td>\n",
              "      <td>...</td>\n",
              "      <td>...</td>\n",
              "      <td>...</td>\n",
              "      <td>...</td>\n",
              "      <td>...</td>\n",
              "      <td>...</td>\n",
              "      <td>...</td>\n",
              "      <td>...</td>\n",
              "      <td>...</td>\n",
              "    </tr>\n",
              "    <tr>\n",
              "      <th>886</th>\n",
              "      <td>887</td>\n",
              "      <td>0</td>\n",
              "      <td>2</td>\n",
              "      <td>Montvila, Rev. Juozas</td>\n",
              "      <td>male</td>\n",
              "      <td>27.0</td>\n",
              "      <td>0</td>\n",
              "      <td>0</td>\n",
              "      <td>211536</td>\n",
              "      <td>13.0000</td>\n",
              "      <td>NaN</td>\n",
              "      <td>S</td>\n",
              "    </tr>\n",
              "    <tr>\n",
              "      <th>887</th>\n",
              "      <td>888</td>\n",
              "      <td>1</td>\n",
              "      <td>1</td>\n",
              "      <td>Graham, Miss. Margaret Edith</td>\n",
              "      <td>female</td>\n",
              "      <td>19.0</td>\n",
              "      <td>0</td>\n",
              "      <td>0</td>\n",
              "      <td>112053</td>\n",
              "      <td>30.0000</td>\n",
              "      <td>B42</td>\n",
              "      <td>S</td>\n",
              "    </tr>\n",
              "    <tr>\n",
              "      <th>888</th>\n",
              "      <td>889</td>\n",
              "      <td>0</td>\n",
              "      <td>3</td>\n",
              "      <td>Johnston, Miss. Catherine Helen \"Carrie\"</td>\n",
              "      <td>female</td>\n",
              "      <td>NaN</td>\n",
              "      <td>1</td>\n",
              "      <td>2</td>\n",
              "      <td>W./C. 6607</td>\n",
              "      <td>23.4500</td>\n",
              "      <td>NaN</td>\n",
              "      <td>S</td>\n",
              "    </tr>\n",
              "    <tr>\n",
              "      <th>889</th>\n",
              "      <td>890</td>\n",
              "      <td>1</td>\n",
              "      <td>1</td>\n",
              "      <td>Behr, Mr. Karl Howell</td>\n",
              "      <td>male</td>\n",
              "      <td>26.0</td>\n",
              "      <td>0</td>\n",
              "      <td>0</td>\n",
              "      <td>111369</td>\n",
              "      <td>30.0000</td>\n",
              "      <td>C148</td>\n",
              "      <td>C</td>\n",
              "    </tr>\n",
              "    <tr>\n",
              "      <th>890</th>\n",
              "      <td>891</td>\n",
              "      <td>0</td>\n",
              "      <td>3</td>\n",
              "      <td>Dooley, Mr. Patrick</td>\n",
              "      <td>male</td>\n",
              "      <td>32.0</td>\n",
              "      <td>0</td>\n",
              "      <td>0</td>\n",
              "      <td>370376</td>\n",
              "      <td>7.7500</td>\n",
              "      <td>NaN</td>\n",
              "      <td>Q</td>\n",
              "    </tr>\n",
              "  </tbody>\n",
              "</table>\n",
              "<p>891 rows × 12 columns</p>\n",
              "</div>"
            ],
            "text/plain": [
              "     PassengerId  Survived  Pclass  ...     Fare Cabin  Embarked\n",
              "0              1         0       3  ...   7.2500   NaN         S\n",
              "1              2         1       1  ...  71.2833   C85         C\n",
              "2              3         1       3  ...   7.9250   NaN         S\n",
              "3              4         1       1  ...  53.1000  C123         S\n",
              "4              5         0       3  ...   8.0500   NaN         S\n",
              "..           ...       ...     ...  ...      ...   ...       ...\n",
              "886          887         0       2  ...  13.0000   NaN         S\n",
              "887          888         1       1  ...  30.0000   B42         S\n",
              "888          889         0       3  ...  23.4500   NaN         S\n",
              "889          890         1       1  ...  30.0000  C148         C\n",
              "890          891         0       3  ...   7.7500   NaN         Q\n",
              "\n",
              "[891 rows x 12 columns]"
            ]
          },
          "metadata": {
            "tags": []
          },
          "execution_count": 1
        }
      ]
    },
    {
      "cell_type": "markdown",
      "metadata": {
        "id": "CZ6kXfSrYHTb"
      },
      "source": [
        "**Berikutnya kita akan coba untuk melakukan beberapa eksplorasi dasar**\n",
        "\n",
        "yaitu :\n",
        "1. Menampilkan statistika dataset\n",
        "2. Menampilkan informasi dataset\n",
        "3. Menampilkan kolom\n",
        "4. Melihat hubungan antar variable"
      ]
    },
    {
      "cell_type": "markdown",
      "metadata": {
        "id": "LZzXJSN1eQTP"
      },
      "source": [
        "**1. Mendeskripsikan Data**\n",
        "\n",
        "Menggunakan fungsi `describe()` , ini akan menampilkan statistika secara ringkas mulai dari jumlah data hingga nilai kuartil dari data tersebut. \n",
        "\n",
        "Silahkan ketikan syntax berikut:\n",
        "\n",
        "\n",
        "```\n",
        "data.describe()\n",
        "```\n",
        "\n",
        "\n",
        "\n"
      ]
    },
    {
      "cell_type": "code",
      "metadata": {
        "id": "NTWvV7IvaMGt",
        "colab": {
          "base_uri": "https://localhost:8080/",
          "height": 304
        },
        "outputId": "c36e797f-ccfd-4955-8f73-91201dd8be31"
      },
      "source": [
        "data.describe()"
      ],
      "execution_count": null,
      "outputs": [
        {
          "output_type": "execute_result",
          "data": {
            "text/html": [
              "<div>\n",
              "<style scoped>\n",
              "    .dataframe tbody tr th:only-of-type {\n",
              "        vertical-align: middle;\n",
              "    }\n",
              "\n",
              "    .dataframe tbody tr th {\n",
              "        vertical-align: top;\n",
              "    }\n",
              "\n",
              "    .dataframe thead th {\n",
              "        text-align: right;\n",
              "    }\n",
              "</style>\n",
              "<table border=\"1\" class=\"dataframe\">\n",
              "  <thead>\n",
              "    <tr style=\"text-align: right;\">\n",
              "      <th></th>\n",
              "      <th>PassengerId</th>\n",
              "      <th>Survived</th>\n",
              "      <th>Pclass</th>\n",
              "      <th>Age</th>\n",
              "      <th>SibSp</th>\n",
              "      <th>Parch</th>\n",
              "      <th>Fare</th>\n",
              "    </tr>\n",
              "  </thead>\n",
              "  <tbody>\n",
              "    <tr>\n",
              "      <th>count</th>\n",
              "      <td>891.000000</td>\n",
              "      <td>891.000000</td>\n",
              "      <td>891.000000</td>\n",
              "      <td>714.000000</td>\n",
              "      <td>891.000000</td>\n",
              "      <td>891.000000</td>\n",
              "      <td>891.000000</td>\n",
              "    </tr>\n",
              "    <tr>\n",
              "      <th>mean</th>\n",
              "      <td>446.000000</td>\n",
              "      <td>0.383838</td>\n",
              "      <td>2.308642</td>\n",
              "      <td>29.699118</td>\n",
              "      <td>0.523008</td>\n",
              "      <td>0.381594</td>\n",
              "      <td>32.204208</td>\n",
              "    </tr>\n",
              "    <tr>\n",
              "      <th>std</th>\n",
              "      <td>257.353842</td>\n",
              "      <td>0.486592</td>\n",
              "      <td>0.836071</td>\n",
              "      <td>14.526497</td>\n",
              "      <td>1.102743</td>\n",
              "      <td>0.806057</td>\n",
              "      <td>49.693429</td>\n",
              "    </tr>\n",
              "    <tr>\n",
              "      <th>min</th>\n",
              "      <td>1.000000</td>\n",
              "      <td>0.000000</td>\n",
              "      <td>1.000000</td>\n",
              "      <td>0.420000</td>\n",
              "      <td>0.000000</td>\n",
              "      <td>0.000000</td>\n",
              "      <td>0.000000</td>\n",
              "    </tr>\n",
              "    <tr>\n",
              "      <th>25%</th>\n",
              "      <td>223.500000</td>\n",
              "      <td>0.000000</td>\n",
              "      <td>2.000000</td>\n",
              "      <td>20.125000</td>\n",
              "      <td>0.000000</td>\n",
              "      <td>0.000000</td>\n",
              "      <td>7.910400</td>\n",
              "    </tr>\n",
              "    <tr>\n",
              "      <th>50%</th>\n",
              "      <td>446.000000</td>\n",
              "      <td>0.000000</td>\n",
              "      <td>3.000000</td>\n",
              "      <td>28.000000</td>\n",
              "      <td>0.000000</td>\n",
              "      <td>0.000000</td>\n",
              "      <td>14.454200</td>\n",
              "    </tr>\n",
              "    <tr>\n",
              "      <th>75%</th>\n",
              "      <td>668.500000</td>\n",
              "      <td>1.000000</td>\n",
              "      <td>3.000000</td>\n",
              "      <td>38.000000</td>\n",
              "      <td>1.000000</td>\n",
              "      <td>0.000000</td>\n",
              "      <td>31.000000</td>\n",
              "    </tr>\n",
              "    <tr>\n",
              "      <th>max</th>\n",
              "      <td>891.000000</td>\n",
              "      <td>1.000000</td>\n",
              "      <td>3.000000</td>\n",
              "      <td>80.000000</td>\n",
              "      <td>8.000000</td>\n",
              "      <td>6.000000</td>\n",
              "      <td>512.329200</td>\n",
              "    </tr>\n",
              "  </tbody>\n",
              "</table>\n",
              "</div>"
            ],
            "text/plain": [
              "       PassengerId    Survived      Pclass  ...       SibSp       Parch        Fare\n",
              "count   891.000000  891.000000  891.000000  ...  891.000000  891.000000  891.000000\n",
              "mean    446.000000    0.383838    2.308642  ...    0.523008    0.381594   32.204208\n",
              "std     257.353842    0.486592    0.836071  ...    1.102743    0.806057   49.693429\n",
              "min       1.000000    0.000000    1.000000  ...    0.000000    0.000000    0.000000\n",
              "25%     223.500000    0.000000    2.000000  ...    0.000000    0.000000    7.910400\n",
              "50%     446.000000    0.000000    3.000000  ...    0.000000    0.000000   14.454200\n",
              "75%     668.500000    1.000000    3.000000  ...    1.000000    0.000000   31.000000\n",
              "max     891.000000    1.000000    3.000000  ...    8.000000    6.000000  512.329200\n",
              "\n",
              "[8 rows x 7 columns]"
            ]
          },
          "metadata": {
            "tags": []
          },
          "execution_count": 2
        }
      ]
    },
    {
      "cell_type": "markdown",
      "metadata": {
        "id": "p56phCVQyChu"
      },
      "source": [
        "Terdapat data yang hilang dibagian kolum Age"
      ]
    },
    {
      "cell_type": "markdown",
      "metadata": {
        "id": "8SXlnZzHe4ax"
      },
      "source": [
        "**2. Melihat Kolom Yang Ada Dalam Dataset**\n",
        "Untuk melakukannya kita menggunakan fungsi ```keys()```. \n",
        "\n",
        "silahkan ketikan syntax berikut:\n",
        "\n",
        "\n",
        "```\n",
        "data.keys()\n",
        "```\n",
        "\n"
      ]
    },
    {
      "cell_type": "code",
      "metadata": {
        "id": "G2GKU2O3aVA9",
        "colab": {
          "base_uri": "https://localhost:8080/"
        },
        "outputId": "a94e4c32-7562-44cb-9bee-4081a2a76544"
      },
      "source": [
        "data.keys()"
      ],
      "execution_count": null,
      "outputs": [
        {
          "output_type": "execute_result",
          "data": {
            "text/plain": [
              "Index(['PassengerId', 'Survived', 'Pclass', 'Name', 'Sex', 'Age', 'SibSp',\n",
              "       'Parch', 'Ticket', 'Fare', 'Cabin', 'Embarked'],\n",
              "      dtype='object')"
            ]
          },
          "metadata": {
            "tags": []
          },
          "execution_count": 3
        }
      ]
    },
    {
      "cell_type": "markdown",
      "metadata": {
        "id": "nxMAQnaKSpB8"
      },
      "source": [
        "Dapat kita lihat bahwa terdapat 891 baris (rows) yang merepresentasikan **penumpang** dan 12 columns yang merepresentasikan karakteristik yang dimiliki oleh penumpang kapal Titanic. "
      ]
    },
    {
      "cell_type": "markdown",
      "metadata": {
        "id": "-ibagdYBqFIe"
      },
      "source": [
        "**3. Melihat Info Data**\n",
        "\n",
        "Menggunakan fungsi `info()` kita akan melihat informasi dataset kita. Dimana, yang ditampilkan adalah nama kolom (attribute), jumlah data, keterangan (null atau non-null) dan tipe data  kolom. \n",
        "Silahkan ketikkan sintaks berikut :\n",
        "\n",
        "\n",
        "```\n",
        "data.info()\n",
        "```\n",
        "\n"
      ]
    },
    {
      "cell_type": "code",
      "metadata": {
        "colab": {
          "base_uri": "https://localhost:8080/"
        },
        "id": "6AGzB3JLiwMq",
        "outputId": "c7797b21-ae8f-4556-e97d-2fe5393a7ca8"
      },
      "source": [
        "data.info()"
      ],
      "execution_count": null,
      "outputs": [
        {
          "output_type": "stream",
          "text": [
            "<class 'pandas.core.frame.DataFrame'>\n",
            "RangeIndex: 891 entries, 0 to 890\n",
            "Data columns (total 12 columns):\n",
            " #   Column       Non-Null Count  Dtype  \n",
            "---  ------       --------------  -----  \n",
            " 0   PassengerId  891 non-null    int64  \n",
            " 1   Survived     891 non-null    int64  \n",
            " 2   Pclass       891 non-null    int64  \n",
            " 3   Name         891 non-null    object \n",
            " 4   Sex          891 non-null    object \n",
            " 5   Age          714 non-null    float64\n",
            " 6   SibSp        891 non-null    int64  \n",
            " 7   Parch        891 non-null    int64  \n",
            " 8   Ticket       891 non-null    object \n",
            " 9   Fare         891 non-null    float64\n",
            " 10  Cabin        204 non-null    object \n",
            " 11  Embarked     889 non-null    object \n",
            "dtypes: float64(2), int64(5), object(5)\n",
            "memory usage: 83.7+ KB\n"
          ],
          "name": "stdout"
        }
      ]
    },
    {
      "cell_type": "markdown",
      "metadata": {
        "id": "qYF67FaJBWDW"
      },
      "source": [
        "## **Missing Values Handling**\n",
        "\n",
        "\n",
        "Kita bisa memeriksa apakah dataset kita terdapat Missing Value atau tidak dengan snyax berikut:\n",
        "\n",
        "```\n",
        "# melihat total missing value pada data\n",
        "print(data.isnull().sum())\n",
        "```\n"
      ]
    },
    {
      "cell_type": "code",
      "metadata": {
        "colab": {
          "base_uri": "https://localhost:8080/"
        },
        "id": "2J69y2Xg71IU",
        "outputId": "401753f5-23af-4b61-a314-96d433189212"
      },
      "source": [
        "# melihat total missing value pada data\n",
        "print(data.isnull().sum())"
      ],
      "execution_count": null,
      "outputs": [
        {
          "output_type": "stream",
          "text": [
            "PassengerId      0\n",
            "Survived         0\n",
            "Pclass           0\n",
            "Name             0\n",
            "Sex              0\n",
            "Age              0\n",
            "SibSp            0\n",
            "Parch            0\n",
            "Ticket           0\n",
            "Fare             0\n",
            "Cabin          687\n",
            "Embarked         0\n",
            "dtype: int64\n"
          ],
          "name": "stdout"
        }
      ]
    },
    {
      "cell_type": "markdown",
      "metadata": {
        "id": "TGN7xQEpZNoK"
      },
      "source": [
        "Sebelumnya sudah ditampilkan informasi data dengan fungsi info(). Pada hasil outputnya entri dari dataset seharusnya adalah 890 perkolom. Namun masih dijumpai kolom yang entri nya dibawah 890 yaitu kolom **Age**, **Embarked**, dan **Cabin**. Oleh karena itu kita lakukan Missing Values Handling.\n",
        "\n",
        "**Missing values** merupakan keadaan dimana saat data kita sudah dilakukan EDA 1 (Exploratory Data Analysis) masih terlihat belum cocok jika dibenamkan *classifier/algoritma* `machine learning`. Diantara missing values handling yang dilakukan pada pembelajaran kali ini adalah mengisi data kosong. \n",
        "\n",
        "Menggunakan perintah ```fillna``` kita isi kolom **Age** dengan **nilai rata - rata**. Dikodingan ditunjukkan dengan ```data.age.mean()```. Sedangkan kolom **Embarked** kita isi dengan **nilai modus** ."
      ]
    },
    {
      "cell_type": "code",
      "metadata": {
        "id": "W3xWGZLZqjkd"
      },
      "source": [
        "data.Age.fillna(data.Age.mean(), inplace=True)"
      ],
      "execution_count": null,
      "outputs": []
    },
    {
      "cell_type": "code",
      "metadata": {
        "colab": {
          "base_uri": "https://localhost:8080/"
        },
        "id": "AXeEZvIwAKdc",
        "outputId": "d88308a4-df15-41ce-ec1f-c83cb7e1ecca"
      },
      "source": [
        "dummy = data.Embarked.mode()\n",
        "dummy"
      ],
      "execution_count": null,
      "outputs": [
        {
          "output_type": "execute_result",
          "data": {
            "text/plain": [
              "0    S\n",
              "dtype: object"
            ]
          },
          "metadata": {
            "tags": []
          },
          "execution_count": 3
        }
      ]
    },
    {
      "cell_type": "code",
      "metadata": {
        "id": "DORUvgpgt7dO"
      },
      "source": [
        "data.Embarked.fillna('S', inplace=True)"
      ],
      "execution_count": null,
      "outputs": []
    },
    {
      "cell_type": "markdown",
      "metadata": {
        "id": "dllucCg_C4Vd"
      },
      "source": [
        "Setelah proses mengisi kolom data telah dilakukan, kita lihat jumlah entri untuk masing - masing kolom tadi dengan fungsi ```info()```. Lalu bagaimana dengan kolom **Cabin** ? Pada pertemuan ini tidak dilakukan apa-apa pada kolom itu"
      ]
    },
    {
      "cell_type": "code",
      "metadata": {
        "colab": {
          "base_uri": "https://localhost:8080/"
        },
        "id": "fUFkqzQGuMeW",
        "outputId": "92ac1e73-3d7f-471a-8574-b2fe9dc41e1e"
      },
      "source": [
        "data.info()"
      ],
      "execution_count": null,
      "outputs": [
        {
          "output_type": "stream",
          "text": [
            "<class 'pandas.core.frame.DataFrame'>\n",
            "RangeIndex: 891 entries, 0 to 890\n",
            "Data columns (total 12 columns):\n",
            " #   Column       Non-Null Count  Dtype  \n",
            "---  ------       --------------  -----  \n",
            " 0   PassengerId  891 non-null    int64  \n",
            " 1   Survived     891 non-null    int64  \n",
            " 2   Pclass       891 non-null    int64  \n",
            " 3   Name         891 non-null    object \n",
            " 4   Sex          891 non-null    object \n",
            " 5   Age          891 non-null    float64\n",
            " 6   SibSp        891 non-null    int64  \n",
            " 7   Parch        891 non-null    int64  \n",
            " 8   Ticket       891 non-null    object \n",
            " 9   Fare         891 non-null    float64\n",
            " 10  Cabin        204 non-null    object \n",
            " 11  Embarked     889 non-null    object \n",
            "dtypes: float64(2), int64(5), object(5)\n",
            "memory usage: 83.7+ KB\n"
          ],
          "name": "stdout"
        }
      ]
    },
    {
      "cell_type": "markdown",
      "metadata": {
        "id": "3e3jNQWODZy1"
      },
      "source": [
        "Oke, dataset kita sudah siap untuk dilakukan training (pelatihan) namun untuk memudahkan akan di lakukan Agregasi atau penggabungan kolom agar mudah dibaca nantinya."
      ]
    },
    {
      "cell_type": "markdown",
      "metadata": {
        "id": "vJccZaszDnIe"
      },
      "source": [
        "# **Agregation Data Untuk Menemukan Informasi**\n",
        "\n",
        "Sebelumnya kita coba mencari variable apa saja yang mempengaruhi dalam menentukan apakah penumpang dikategorikan selamat / tidak dan kita sudah membuat beberapa dugaan awal, berikutnya kita akan menguji dugaan tersebut dengan melakukan agregasi data \n",
        "menggunakan fungsi `groupby()` untuk menggabungkan 2 kolom data. \n"
      ]
    },
    {
      "cell_type": "markdown",
      "metadata": {
        "id": "jI9QrZQzbYQA"
      },
      "source": [
        "## **a. Melihat hubungan antar variable dengan korelasi**\n",
        "\n",
        "Dalam pembuatan model ML terutama yang menggunakan klasifikasi kita harus melihat hubungan antar variable dalam dataset dalam menentukan **Class / Category**. hal ini berfungsi ketika kita memiliki banyak variable dan ingin mengetahui \"Kira kira variable apa yang paling berpengaruh?\" \n",
        "\n",
        "untuk menemukan hubungan antara variable dalam dataset kita dapat menggunakan **fungsi korelasi** lalu memvisualisasikannya dengan **Heatmap**\n",
        "\n",
        "tapi sebelum itu kita harus melakukan konversi data pada kolom **Sex** dari **Kategorikal** ke **numerik**\n",
        "\n",
        "Silahkan ketikan syntax dibawah ini:\n",
        "\n",
        "\n",
        "\n",
        "```\n",
        "# Membuat data dummy\n",
        "dummy = data\n",
        "dummy['Sex'].replace(['female', 'male'], [0,1], inplace=True)\n",
        "```\n",
        "\n",
        "\n",
        "\n",
        "```\n",
        "# Membuat visualiasi korelasi antar variable\n",
        "import seaborn as sns\n",
        "corr = data.corr()\n",
        "sns.heatmap(corr)\n",
        "```\n",
        "\n"
      ]
    },
    {
      "cell_type": "code",
      "metadata": {
        "id": "soAGIp16f6Uo"
      },
      "source": [
        "# Membuat data dummy\n",
        "dummy = data\n",
        "dummy['Sex'].replace(['female', 'male'], [0,1], inplace=True)"
      ],
      "execution_count": null,
      "outputs": []
    },
    {
      "cell_type": "code",
      "metadata": {
        "id": "UO9IlS467mvY",
        "colab": {
          "base_uri": "https://localhost:8080/",
          "height": 338
        },
        "outputId": "82701e31-f844-4bb3-f45a-eca935fc98bf"
      },
      "source": [
        "import seaborn as sns\n",
        "corr = dummy.corr()\n",
        "sns.heatmap(corr)"
      ],
      "execution_count": null,
      "outputs": [
        {
          "output_type": "execute_result",
          "data": {
            "text/plain": [
              "<matplotlib.axes._subplots.AxesSubplot at 0x7fa928cfd050>"
            ]
          },
          "metadata": {
            "tags": []
          },
          "execution_count": 6
        },
        {
          "output_type": "display_data",
          "data": {
            "image/png": "[encoded data removed]",
            "text/plain": [
              "<Figure size 432x288 with 2 Axes>"
            ]
          },
          "metadata": {
            "tags": [],
            "needs_background": "light"
          }
        }
      ]
    },
    {
      "cell_type": "markdown",
      "metadata": {
        "id": "g5S9iQl0f_rU"
      },
      "source": [
        "**Mari kita bahas**\n",
        "\n",
        "**Dalam korelasi hubungan antara variable digambarkan dengan nilai dari -1 sampai 1 (Berkorelasi positif / Negatif)** dimana bila nilai korelasi mendekati 1 maka hubungan tersebut kuat sedangkan bila nilai korelasi mendekati 0 maka hubungannya lemah\n",
        "\n",
        "* **Korelasi Positif** : Bila variable sumbu X tinggi maka variable Y juga tinggi\n",
        "* **Korelasi Negatif** : Bila variable sumbu X tinggi maka variable Y rendah\n",
        "\n",
        "\n",
        "**Dari hasil visualisasi diatas kita berfokus**\n",
        "pada variable **Survied**, dapat kita lihat bahwa variable yang paling berpengaruh dalam tingkat keselamatan penumpang adalah:\n",
        "1. Pclass (Berkorelasi Negatif)\n",
        "2. Sex (Berkorelasi Negatif)\n",
        "3. Fare (Berkorelasi Positif)\n",
        "\n",
        "**Dari sini dapat kita peroleh informasi sebagai dugaan awal(Hipotesis 0):**\n",
        "1. Penumpang dengan kategori kelas 1 memiliki peluang **Selamat** lebih tinggi\n",
        "2. **Penumpang wanita lebih banyak yang selamat dari pada pria**, hal ini karena dalam prosedur evakuasi penumpang wanita dan anak anak akan didahulukan\n",
        "3. **Harga tiket** akan menentukan jenis kelas penumpang yang **secara tidak langsung mempengaruhi peluang penumpang tersebut selamat** dalam insiden ini\n",
        "\n"
      ]
    },
    {
      "cell_type": "markdown",
      "metadata": {
        "id": "tbia3LzbnsfU"
      },
      "source": [
        "## **b. Mengetahui Banyaknya Penumpang Titanic**\n",
        "Gabungkan kolom antara **Pclass** dan **PassangerID**. \n",
        "\n",
        "Silahkan ketikan syntax dibawah ini:\n",
        "\n",
        "\n",
        "\n",
        "```\n",
        "data.groupby(by=['Pclass'])['PassengerId'].count()\n",
        "```\n",
        "\n",
        "Fungsi **groupby()** adalah fungsi yang digunakan untuk mengelompokan data, sebagai contoh disini kita mengelompokan data berdasarkan **variable Pclass** dan **PassengerID** sedangkan fungsi **count()** adalah untuk menghitung jumlah data pada variable PassangerId pada tiap tiap **Pclass**\n",
        "\n"
      ]
    },
    {
      "cell_type": "code",
      "metadata": {
        "colab": {
          "base_uri": "https://localhost:8080/"
        },
        "id": "iHDAKW4MAFxL",
        "outputId": "05424645-8aab-478a-f526-5d58ee032eed"
      },
      "source": [
        "data.groupby(by=['Pclass'])['PassengerId'].count()"
      ],
      "execution_count": null,
      "outputs": [
        {
          "output_type": "execute_result",
          "data": {
            "text/plain": [
              "Pclass\n",
              "1    216\n",
              "2    184\n",
              "3    491\n",
              "Name: PassengerId, dtype: int64"
            ]
          },
          "metadata": {
            "tags": []
          },
          "execution_count": 14
        }
      ]
    },
    {
      "cell_type": "markdown",
      "metadata": {
        "id": "4QAYzHLwnefO"
      },
      "source": [
        "\n",
        "Terlihat bahwa pada kelas 1 jumlah penumpangnya adalah 216 orang, untuk kelas 2 ada 184 orang, dan kelas 3 adalah 491 orang. "
      ]
    },
    {
      "cell_type": "markdown",
      "metadata": {
        "id": "3Z3cdY_rEUK0"
      },
      "source": [
        "\n",
        "\n",
        "## **c. Tarif/Harga Tiket Titanic Tahun 1912 (dalam Euro)**\n",
        "Mari kita lihat berapa rata rata tarif/harga setiap kelasnya pada saat itu (tahun 1912) dengan menggabungkan kolom **Pclass** dengan **Fare**. For your information, untuk kurs saat ini 1 Euro = Rp. 17.485,01 -. \n",
        "\n",
        "silahkan ketikan syntax berikut ini:\n",
        "\n",
        "\n",
        "```\n",
        "data.groupby(by=['Pclass'])['Fare'].mean()\n",
        "```\n",
        "\n",
        "**Mengapa kita mengambil rata rata harga tarif?** karena walaupun sama kelasnya ambil contoh VIP harganya masih tergantung asal pemberangkatan penumpang (Embarkation) dan fasilitas yang ada dalam kamar \n"
      ]
    },
    {
      "cell_type": "code",
      "metadata": {
        "colab": {
          "base_uri": "https://localhost:8080/"
        },
        "id": "B3TnTRm5ALPd",
        "outputId": "efc4568a-97b7-486a-a289-7627b955ca8d"
      },
      "source": [
        "data.groupby(by=['Pclass'])['Fare'].mean()"
      ],
      "execution_count": null,
      "outputs": [
        {
          "output_type": "execute_result",
          "data": {
            "text/plain": [
              "Pclass\n",
              "1    84.154687\n",
              "2    20.662183\n",
              "3    13.675550\n",
              "Name: Fare, dtype: float64"
            ]
          },
          "metadata": {
            "tags": []
          },
          "execution_count": 8
        }
      ]
    },
    {
      "cell_type": "markdown",
      "metadata": {
        "id": "TOz63R5hE3N-"
      },
      "source": [
        "Terlihat bahwa untuk tarif kelas 1 = 84.15 Euro, kelas 2 = 20.66, dan kelas 3 = 13.67 Euro. Misalnya kalau kita kalikan dengan kurs sekarang untuk kelas 3-nya saja harganya sudah mencapai Rp. 211.680 pada tahun 1912. "
      ]
    },
    {
      "cell_type": "markdown",
      "metadata": {
        "id": "rVUtN1BaY942"
      },
      "source": [
        "## **d. Jumlah yang Selamat**\n",
        "\n",
        "Pada kolom Survived, yang selamat dinotasikan dalam angka 1 dan yang tidak dinotasikan dengan angka 0. Nah kita gabungkan kolom **Survived**. "
      ]
    },
    {
      "cell_type": "code",
      "metadata": {
        "colab": {
          "base_uri": "https://localhost:8080/"
        },
        "id": "7s5QcHAShncM",
        "outputId": "75ead03b-71d9-471a-8794-e0998edf4fe9"
      },
      "source": [
        "survived_count = data.groupby('Survived')['Survived'].count()\n",
        "survived_count"
      ],
      "execution_count": null,
      "outputs": [
        {
          "output_type": "execute_result",
          "data": {
            "text/plain": [
              "Survived\n",
              "0    549\n",
              "1    342\n",
              "Name: Survived, dtype: int64"
            ]
          },
          "metadata": {
            "tags": []
          },
          "execution_count": 21
        }
      ]
    },
    {
      "cell_type": "markdown",
      "metadata": {
        "id": "fw5C4EI_iWoA"
      },
      "source": [
        "Dari output diatas kita mengetahui bahwa yang selamat sebanyak 342 orang dan yang tidak selamat 549 orang. Mungkin akan lebih mudah dipahami dengan menampilkannya dalam bentuk chart bukan. Mari kita coba.\n",
        "\n",
        "```\n",
        "plt.figure(figsize=(4,5))\n",
        "plt.bar(survived_count.index, survived_count.values)\n",
        "plt.title('Grouped by survival')\n",
        "plt.xticks([0,1],['Not survived', 'Survived'])\n",
        "for i, value in enumerate(survived_count.values):\n",
        "    plt.text(i, value-70, str(value), fontsize=12, color='white',\n",
        "             horizontalalignment='center', verticalalignment='center')\n",
        "plt.show()\n",
        "```"
      ]
    },
    {
      "cell_type": "code",
      "metadata": {
        "colab": {
          "base_uri": "https://localhost:8080/",
          "height": 336
        },
        "id": "BsPAEVzzitXc",
        "outputId": "76780411-2559-4bd0-aaf5-a998823ab7a7"
      },
      "source": [
        "import matplotlib.pyplot as plt\n",
        "\n",
        "plt.figure(figsize=(4,5))\n",
        "plt.bar(survived_count.index, survived_count.values)\n",
        "plt.title('Grouped by survival')\n",
        "plt.xticks([0,1],['Not survived', 'Survived'])\n",
        "for i, value in enumerate(survived_count.values):\n",
        "    plt.text(i, value-70, str(value), fontsize=12, color='white',\n",
        "             horizontalalignment='center', verticalalignment='center')\n",
        "plt.show()"
      ],
      "execution_count": null,
      "outputs": [
        {
          "output_type": "display_data",
          "data": {
            "image/png": "[encoded data removed]",
            "text/plain": [
              "<Figure size 288x360 with 1 Axes>"
            ]
          },
          "metadata": {
            "tags": [],
            "needs_background": "light"
          }
        }
      ]
    },
    {
      "cell_type": "markdown",
      "metadata": {
        "id": "55EPAd7vkIMn"
      },
      "source": [
        "## **e. Yang Selamat Berdasarkan Gender (Jenis Kelamin)**\n",
        "\n",
        "Kita gabungkan 2 kolom yaitu kolom **Sex** dengan **Survived** dan menggunakan fungsi `sum()` kita hitung jumlah mereka. Kenapa kita tidak menggunakan fungsi `count()` ? Karena kita hanya akan berfokus ke siapa yang **Selamat** yang representasinya adalah angka 1 di dalam kolom Survived.\n",
        "\n"
      ]
    },
    {
      "cell_type": "code",
      "metadata": {
        "colab": {
          "base_uri": "https://localhost:8080/"
        },
        "id": "iVphNHp6k3ZN",
        "outputId": "cd33a2d5-a886-490a-8f28-e60ae0a72bc8"
      },
      "source": [
        "survived_sex = data.groupby('Sex')['Survived'].sum()\n",
        "survived_sex"
      ],
      "execution_count": null,
      "outputs": [
        {
          "output_type": "execute_result",
          "data": {
            "text/plain": [
              "Sex\n",
              "female    233\n",
              "male      109\n",
              "Name: Survived, dtype: int64"
            ]
          },
          "metadata": {
            "tags": []
          },
          "execution_count": 16
        }
      ]
    },
    {
      "cell_type": "code",
      "metadata": {
        "colab": {
          "base_uri": "https://localhost:8080/",
          "height": 336
        },
        "id": "Dq6BvZkyktXl",
        "outputId": "7695ea0c-a859-4b82-d099-95ae10f424e9"
      },
      "source": [
        "plt.figure(figsize=(4,5))\n",
        "plt.bar(survived_sex.index, survived_sex.values)\n",
        "plt.title('Survived female and male')\n",
        "for i, value in enumerate(survived_sex.values):\n",
        "    plt.text(i, value-20, str(value), fontsize=12, color='white',\n",
        "             horizontalalignment='center', verticalalignment='center')\n",
        "plt.show()"
      ],
      "execution_count": null,
      "outputs": [
        {
          "output_type": "display_data",
          "data": {
            "image/png": "[encoded data removed]",
            "text/plain": [
              "<Figure size 288x360 with 1 Axes>"
            ]
          },
          "metadata": {
            "tags": [],
            "needs_background": "light"
          }
        }
      ]
    },
    {
      "cell_type": "markdown",
      "metadata": {
        "id": "FgHdN1cClD3p"
      },
      "source": [
        "Dari output bisa terlihat bahwa perempuan adalah orang yang paling banyak selamat. "
      ]
    },
    {
      "cell_type": "markdown",
      "metadata": {
        "id": "8szh9N_No45Y"
      },
      "source": [
        "## **f. Yang Selamat Berdasarkan Kelas Penumpang**\n",
        "\n",
        "Untuk mengetahuinya silahkan ketikan syntax berikut:\n",
        "\n",
        "```\n",
        "survived_Pclass = data.groupby('Pclass')['Survived'].sum()\n",
        "survived_Pclass\n",
        "```\n",
        "\n"
      ]
    },
    {
      "cell_type": "code",
      "metadata": {
        "colab": {
          "base_uri": "https://localhost:8080/"
        },
        "id": "6egiq1zzpS9t",
        "outputId": "0502d96b-a292-4103-883d-05657aca8eef"
      },
      "source": [
        "survived_Pclass = data.groupby('Pclass')['Survived'].sum()\n",
        "survived_Pclass"
      ],
      "execution_count": null,
      "outputs": [
        {
          "output_type": "execute_result",
          "data": {
            "text/plain": [
              "Pclass\n",
              "1    136\n",
              "2     87\n",
              "3    119\n",
              "Name: Survived, dtype: int64"
            ]
          },
          "metadata": {
            "tags": []
          },
          "execution_count": 29
        }
      ]
    },
    {
      "cell_type": "code",
      "metadata": {
        "id": "pYu27HBr8KXm",
        "colab": {
          "base_uri": "https://localhost:8080/",
          "height": 427
        },
        "outputId": "ec111ed6-f969-4231-f3d7-d2e6c35c352b"
      },
      "source": [
        "plt.figure(figsize=(7,7))\n",
        "plt.title('Grouped by pclass')\n",
        "plt.pie(survived_Pclass.values, labels=['Class 1', 'Class 2', 'Class 3'], \n",
        " autopct='%1.1f%%', textprops={'fontsize':13})\n",
        "plt.show()"
      ],
      "execution_count": null,
      "outputs": [
        {
          "output_type": "display_data",
          "data": {
            "image/png": "[encoded data removed]",
            "text/plain": [
              "<Figure size 504x504 with 1 Axes>"
            ]
          },
          "metadata": {
            "tags": []
          }
        }
      ]
    },
    {
      "cell_type": "markdown",
      "metadata": {
        "id": "FKrKjc8NpkWo"
      },
      "source": [
        "Dari hasik output tersebut ternyata benar bahwa penumpang kelas 1 lebih banyak yang selamat dari pada kelas yang lain"
      ]
    },
    {
      "cell_type": "markdown",
      "metadata": {
        "id": "EAmz8vyA1QGT"
      },
      "source": [
        "## **g. Distribusi Pclass**\n",
        "\n",
        "untuk melihat distribusi Pclass silahkan ketikan syntax berikut\n",
        "\n",
        "\n",
        "\n",
        "```\n",
        "import matplotlib.pyplot as plt\n",
        "pclass_count = data.groupby('Pclass')['Pclass'].count()\n",
        "```\n",
        "\n",
        "selanjutnya kita coba visulasisasikan dengan syntax berikut:\n",
        "\n",
        "\n",
        "\n",
        "```\n",
        "plt.figure(figsize=(7,7))\n",
        "plt.title('Grouped by pclass')\n",
        "plt.pie(pclass_count.values, labels=['Class 1', 'Class 2', 'Class 3'], \n",
        " autopct='%1.1f%%', textprops={'fontsize':13})\n",
        "plt.show()\n",
        "```\n",
        "\n",
        "\n",
        "\n"
      ]
    },
    {
      "cell_type": "code",
      "metadata": {
        "id": "M7tfZL171rw8"
      },
      "source": [
        "import matplotlib.pyplot as plt\n",
        "pclass_count = data.groupby('Pclass')['Pclass'].count()"
      ],
      "execution_count": null,
      "outputs": []
    },
    {
      "cell_type": "code",
      "metadata": {
        "colab": {
          "base_uri": "https://localhost:8080/",
          "height": 427
        },
        "id": "qlYMI84n1tpY",
        "outputId": "90b3db91-5790-45d5-d719-f64fd260423a"
      },
      "source": [
        "plt.figure(figsize=(7,7))\n",
        "plt.title('Grouped by pclass')\n",
        "plt.pie(pclass_count.values, labels=['Class 1', 'Class 2', 'Class 3'], \n",
        " autopct='%1.1f%%', textprops={'fontsize':13})\n",
        "plt.show()"
      ],
      "execution_count": null,
      "outputs": [
        {
          "output_type": "display_data",
          "data": {
            "image/png": "[encoded data removed]",
            "text/plain": [
              "<Figure size 504x504 with 1 Axes>"
            ]
          },
          "metadata": {
            "tags": []
          }
        }
      ]
    },
    {
      "cell_type": "markdown",
      "metadata": {
        "id": "mNfXUABA45fN"
      },
      "source": [
        "Terlihat pada visualisasi diatas bahwa sebagian besar penumpang kapal titanic di dominasi oleh penumpang kelas 3 yang merupakan kaum imigran yang ingin mengadu nasib di amerika dan kanada"
      ]
    },
    {
      "cell_type": "markdown",
      "metadata": {
        "id": "-IRSkMsg3_Ui"
      },
      "source": [
        "## **h. Distribusi Asal Penumpang**\n",
        "\n",
        "untuk melihat distribusi asal penumpang kapal titanic silahkan ketikan syntax berikut:\n",
        "\n",
        "\n",
        "\n",
        "```\n",
        "embarkation_count = data.groupby('Embarked')['Embarked'].count()\n",
        "```\n",
        "\n",
        "selanjutnya kita buat visualisasinya dengan syntax berikut:\n",
        "\n",
        "\n",
        "```\n",
        "plt.figure(figsize=(7,7))\n",
        "plt.title('Grouped by Embarkation')\n",
        "plt.pie(embarkation_count.values, labels=['Cherbourg', 'Queenstown', 'Southampton'], \n",
        " autopct='%1.1f%%', textprops={'fontsize':13})\n",
        "plt.show()\n",
        "```\n",
        "\n",
        "\n"
      ]
    },
    {
      "cell_type": "code",
      "metadata": {
        "id": "HxHQictA6vbl"
      },
      "source": [
        "embarkation_count = data.groupby('Embarked')['Embarked'].count()"
      ],
      "execution_count": null,
      "outputs": []
    },
    {
      "cell_type": "code",
      "metadata": {
        "colab": {
          "base_uri": "https://localhost:8080/",
          "height": 427
        },
        "id": "oNeaFchi6vmA",
        "outputId": "5ba0e63f-8480-434a-984e-daafaf8578ea"
      },
      "source": [
        "import matplotlib.pyplot as plt\n",
        "plt.figure(figsize=(7,7))\n",
        "plt.title('Grouped by Embarkation')\n",
        "plt.pie(embarkation_count.values, labels=['Cherbourg', 'Queenstown', 'Southampton'], \n",
        " autopct='%1.1f%%', textprops={'fontsize':13})\n",
        "plt.show()"
      ],
      "execution_count": null,
      "outputs": [
        {
          "output_type": "display_data",
          "data": {
            "image/png": "[encoded data removed]",
            "text/plain": [
              "<Figure size 504x504 with 1 Axes>"
            ]
          },
          "metadata": {
            "tags": []
          }
        }
      ]
    },
    {
      "cell_type": "markdown",
      "metadata": {
        "id": "m0VcjdUy7A5n"
      },
      "source": [
        "Dari visualisasi tersebut dapat terlihat bahwa sebagian besar penumpang kapal titanic berasar dari Southampton"
      ]
    },
    {
      "cell_type": "markdown",
      "metadata": {
        "id": "CvnQCXm8FN6x"
      },
      "source": [
        "# **Preprocessing Data**\n",
        "\n",
        "Pada tahap pra proses ini kita melakukan transformasi data hingga encoding data. Apa itu encoding ? **Encoding** adalah proses mengubah data dari bentuk A menjadi bentuk B, entah dari data yang awalnya kategorik menjadi numerik. Proses sebaliknya disebut dengan **Decode**.\n",
        "\n",
        "Pertama - tama dimulai dengan melihat kolom terlebih dahulu menggunakan fungsi ```columns```. "
      ]
    },
    {
      "cell_type": "code",
      "metadata": {
        "colab": {
          "base_uri": "https://localhost:8080/"
        },
        "id": "lgh9sGk4AQvG",
        "outputId": "30b5140a-98d2-495f-a2f0-e98e88bf911e"
      },
      "source": [
        "data.columns"
      ],
      "execution_count": null,
      "outputs": [
        {
          "output_type": "execute_result",
          "data": {
            "text/plain": [
              "Index(['PassengerId', 'Survived', 'Pclass', 'Name', 'Sex', 'Age', 'SibSp',\n",
              "       'Parch', 'Ticket', 'Fare', 'Cabin', 'Embarked'],\n",
              "      dtype='object')"
            ]
          },
          "metadata": {
            "tags": []
          },
          "execution_count": 32
        }
      ]
    },
    {
      "cell_type": "markdown",
      "metadata": {
        "id": "00RpoKQ7F-fd"
      },
      "source": [
        "## **1. Menentukan Predictor**\n",
        "\n",
        "Nah, prediktor digunakan untuk memprediksi suatu data. Dimana **x** adalah data prediktor dan **y** adalah data. \n",
        "\n",
        "Karena data tidak semuanya bisa dimasukkan dalam `machine` `learning` sebagai *prediction*. Contoh variable yang bisa digunakan adalah :\n",
        "\n",
        "\n",
        "1.   Ordinal : weather, cloth size, customer satisfication, user rating. \n",
        "2.   Temperature : misalnya suhu. \n",
        "3.   Interval : m\n",
        "4.   Ratio   \n",
        "\n",
        "Contoh tipe data yang tidak dapat digunakan sebbagai `predictor` pada ML adalah :\n",
        "1. Usia\n",
        "2. Jenis Kelamin\n",
        "3. Nama Kota. \n",
        "4. dan lain - lain\n",
        "\n",
        "Untuk prediktor, kolom yang akan diambil adalah **[Pclass, Sex, SibSp, Fare, Parch, dan Embarked]** . "
      ]
    },
    {
      "cell_type": "code",
      "metadata": {
        "id": "nl4RBorIAVW8"
      },
      "source": [
        "#x data predictor\n",
        "#y data \n",
        "x = data[['Pclass', 'Sex', 'Age', 'SibSp', 'Fare', 'Parch', 'Embarked']]\n",
        "#Select Predictor"
      ],
      "execution_count": null,
      "outputs": []
    },
    {
      "cell_type": "markdown",
      "metadata": {
        "id": "W3eaOuJOGdcd"
      },
      "source": [
        "Jika sudah, mari kita lihat kolom tadi dengan mencetak **x**. "
      ]
    },
    {
      "cell_type": "code",
      "metadata": {
        "colab": {
          "base_uri": "https://localhost:8080/",
          "height": 407
        },
        "id": "EYQdBWzUAZwM",
        "outputId": "96731d8e-0f97-418c-b1fb-891319c176b0"
      },
      "source": [
        "x"
      ],
      "execution_count": null,
      "outputs": [
        {
          "output_type": "execute_result",
          "data": {
            "text/html": [
              "<div>\n",
              "<style scoped>\n",
              "    .dataframe tbody tr th:only-of-type {\n",
              "        vertical-align: middle;\n",
              "    }\n",
              "\n",
              "    .dataframe tbody tr th {\n",
              "        vertical-align: top;\n",
              "    }\n",
              "\n",
              "    .dataframe thead th {\n",
              "        text-align: right;\n",
              "    }\n",
              "</style>\n",
              "<table border=\"1\" class=\"dataframe\">\n",
              "  <thead>\n",
              "    <tr style=\"text-align: right;\">\n",
              "      <th></th>\n",
              "      <th>Pclass</th>\n",
              "      <th>Sex</th>\n",
              "      <th>Age</th>\n",
              "      <th>SibSp</th>\n",
              "      <th>Fare</th>\n",
              "      <th>Parch</th>\n",
              "      <th>Embarked</th>\n",
              "    </tr>\n",
              "  </thead>\n",
              "  <tbody>\n",
              "    <tr>\n",
              "      <th>0</th>\n",
              "      <td>3</td>\n",
              "      <td>male</td>\n",
              "      <td>22.000000</td>\n",
              "      <td>1</td>\n",
              "      <td>7.2500</td>\n",
              "      <td>0</td>\n",
              "      <td>S</td>\n",
              "    </tr>\n",
              "    <tr>\n",
              "      <th>1</th>\n",
              "      <td>1</td>\n",
              "      <td>female</td>\n",
              "      <td>38.000000</td>\n",
              "      <td>1</td>\n",
              "      <td>71.2833</td>\n",
              "      <td>0</td>\n",
              "      <td>C</td>\n",
              "    </tr>\n",
              "    <tr>\n",
              "      <th>2</th>\n",
              "      <td>3</td>\n",
              "      <td>female</td>\n",
              "      <td>26.000000</td>\n",
              "      <td>0</td>\n",
              "      <td>7.9250</td>\n",
              "      <td>0</td>\n",
              "      <td>S</td>\n",
              "    </tr>\n",
              "    <tr>\n",
              "      <th>3</th>\n",
              "      <td>1</td>\n",
              "      <td>female</td>\n",
              "      <td>35.000000</td>\n",
              "      <td>1</td>\n",
              "      <td>53.1000</td>\n",
              "      <td>0</td>\n",
              "      <td>S</td>\n",
              "    </tr>\n",
              "    <tr>\n",
              "      <th>4</th>\n",
              "      <td>3</td>\n",
              "      <td>male</td>\n",
              "      <td>35.000000</td>\n",
              "      <td>0</td>\n",
              "      <td>8.0500</td>\n",
              "      <td>0</td>\n",
              "      <td>S</td>\n",
              "    </tr>\n",
              "    <tr>\n",
              "      <th>...</th>\n",
              "      <td>...</td>\n",
              "      <td>...</td>\n",
              "      <td>...</td>\n",
              "      <td>...</td>\n",
              "      <td>...</td>\n",
              "      <td>...</td>\n",
              "      <td>...</td>\n",
              "    </tr>\n",
              "    <tr>\n",
              "      <th>886</th>\n",
              "      <td>2</td>\n",
              "      <td>male</td>\n",
              "      <td>27.000000</td>\n",
              "      <td>0</td>\n",
              "      <td>13.0000</td>\n",
              "      <td>0</td>\n",
              "      <td>S</td>\n",
              "    </tr>\n",
              "    <tr>\n",
              "      <th>887</th>\n",
              "      <td>1</td>\n",
              "      <td>female</td>\n",
              "      <td>19.000000</td>\n",
              "      <td>0</td>\n",
              "      <td>30.0000</td>\n",
              "      <td>0</td>\n",
              "      <td>S</td>\n",
              "    </tr>\n",
              "    <tr>\n",
              "      <th>888</th>\n",
              "      <td>3</td>\n",
              "      <td>female</td>\n",
              "      <td>29.699118</td>\n",
              "      <td>1</td>\n",
              "      <td>23.4500</td>\n",
              "      <td>2</td>\n",
              "      <td>S</td>\n",
              "    </tr>\n",
              "    <tr>\n",
              "      <th>889</th>\n",
              "      <td>1</td>\n",
              "      <td>male</td>\n",
              "      <td>26.000000</td>\n",
              "      <td>0</td>\n",
              "      <td>30.0000</td>\n",
              "      <td>0</td>\n",
              "      <td>C</td>\n",
              "    </tr>\n",
              "    <tr>\n",
              "      <th>890</th>\n",
              "      <td>3</td>\n",
              "      <td>male</td>\n",
              "      <td>32.000000</td>\n",
              "      <td>0</td>\n",
              "      <td>7.7500</td>\n",
              "      <td>0</td>\n",
              "      <td>Q</td>\n",
              "    </tr>\n",
              "  </tbody>\n",
              "</table>\n",
              "<p>891 rows × 7 columns</p>\n",
              "</div>"
            ],
            "text/plain": [
              "     Pclass     Sex        Age  SibSp     Fare  Parch Embarked\n",
              "0         3    male  22.000000      1   7.2500      0        S\n",
              "1         1  female  38.000000      1  71.2833      0        C\n",
              "2         3  female  26.000000      0   7.9250      0        S\n",
              "3         1  female  35.000000      1  53.1000      0        S\n",
              "4         3    male  35.000000      0   8.0500      0        S\n",
              "..      ...     ...        ...    ...      ...    ...      ...\n",
              "886       2    male  27.000000      0  13.0000      0        S\n",
              "887       1  female  19.000000      0  30.0000      0        S\n",
              "888       3  female  29.699118      1  23.4500      2        S\n",
              "889       1    male  26.000000      0  30.0000      0        C\n",
              "890       3    male  32.000000      0   7.7500      0        Q\n",
              "\n",
              "[891 rows x 7 columns]"
            ]
          },
          "metadata": {
            "tags": []
          },
          "execution_count": 34
        }
      ]
    },
    {
      "cell_type": "markdown",
      "metadata": {
        "id": "WoSBtbToHPXS"
      },
      "source": [
        "## **2. Encoding**\n",
        "\n",
        "Kali ini untuk melakukan proses Encoding kita menggunakan library ```Scikit-Learn``` atau sering disingkat dengan ```Sklearn```. Dan menggunakan fungsi ```LabelEncoder()```."
      ]
    },
    {
      "cell_type": "code",
      "metadata": {
        "id": "X_se4Ii2Abb4"
      },
      "source": [
        "from sklearn import preprocessing \n",
        "ls = preprocessing.LabelEncoder()"
      ],
      "execution_count": null,
      "outputs": []
    },
    {
      "cell_type": "markdown",
      "metadata": {
        "id": "UCJMJCvkHosb"
      },
      "source": [
        "Kita akan meng-encode kolom **Sex** dan **Embarked**. Dan ditampung dalam variable baru yaitu **Sex_encoded** dan **Embarked_encoded**. "
      ]
    },
    {
      "cell_type": "code",
      "metadata": {
        "colab": {
          "base_uri": "https://localhost:8080/"
        },
        "id": "XCgDQN2rAhrZ",
        "outputId": "0d06d338-2cd1-4c57-f38c-76886a186bf2"
      },
      "source": [
        "x['Sex_encoded'] = ls.fit_transform(x['Sex'])"
      ],
      "execution_count": null,
      "outputs": [
        {
          "output_type": "stream",
          "text": [
            "/usr/local/lib/python3.7/dist-packages/ipykernel_launcher.py:1: SettingWithCopyWarning: \n",
            "A value is trying to be set on a copy of a slice from a DataFrame.\n",
            "Try using .loc[row_indexer,col_indexer] = value instead\n",
            "\n",
            "See the caveats in the documentation: https://pandas.pydata.org/pandas-docs/stable/user_guide/indexing.html#returning-a-view-versus-a-copy\n",
            "  \"\"\"Entry point for launching an IPython kernel.\n"
          ],
          "name": "stderr"
        }
      ]
    },
    {
      "cell_type": "code",
      "metadata": {
        "colab": {
          "base_uri": "https://localhost:8080/"
        },
        "id": "JuwwduvWAlle",
        "outputId": "7eb3236e-923e-49f1-be3d-7402ea616a4a"
      },
      "source": [
        "x['Embarked_encoded'] = ls.fit_transform(x['Embarked'])"
      ],
      "execution_count": null,
      "outputs": [
        {
          "output_type": "stream",
          "text": [
            "/usr/local/lib/python3.7/dist-packages/ipykernel_launcher.py:1: SettingWithCopyWarning: \n",
            "A value is trying to be set on a copy of a slice from a DataFrame.\n",
            "Try using .loc[row_indexer,col_indexer] = value instead\n",
            "\n",
            "See the caveats in the documentation: https://pandas.pydata.org/pandas-docs/stable/user_guide/indexing.html#returning-a-view-versus-a-copy\n",
            "  \"\"\"Entry point for launching an IPython kernel.\n"
          ],
          "name": "stderr"
        }
      ]
    },
    {
      "cell_type": "code",
      "metadata": {
        "id": "6O1WMovZApC_"
      },
      "source": [
        "y = data['Survived']"
      ],
      "execution_count": null,
      "outputs": []
    },
    {
      "cell_type": "markdown",
      "metadata": {
        "id": "NYJ6TWCIIDlq"
      },
      "source": [
        "# **Training Data Titanic dengan Berbagai Macam Algoritma Machine Learning**\n",
        "\n",
        "Menggunakan library ```Sklearn```.  Kita panggil semua classifier yang akan digunakan yaitu ```KNN```, ```Naive Bayes Multinomial``` dan `RandomForest`."
      ]
    },
    {
      "cell_type": "code",
      "metadata": {
        "id": "2JLF5lepArrv"
      },
      "source": [
        "from sklearn.naive_bayes import MultinomialNB\n",
        "from sklearn.neighbors import KNeighborsClassifier\n",
        "from sklearn.ensemble import RandomForestClassifier\n",
        "\n",
        "from sklearn.pipeline import Pipeline\n",
        "#memilih algoritma yang paling bagus akurasinya\n",
        "from sklearn import model_selection"
      ],
      "execution_count": null,
      "outputs": []
    },
    {
      "cell_type": "markdown",
      "metadata": {
        "id": "v44CsbrfIicc"
      },
      "source": [
        "## **1. Membangun Model**\n",
        "\n",
        "Model adalah sebutan untuk suatu data yang sudah memuat dataset yang sudah dilakukan proses training. Disini model yang dibangun menggunakan algoritma yang sudah di deklarasikan tadi."
      ]
    },
    {
      "cell_type": "code",
      "metadata": {
        "id": "fdfN7TW8Avjx"
      },
      "source": [
        "models =[MultinomialNB(),\n",
        "         KNeighborsClassifier(),\n",
        "         RandomForestClassifier()]"
      ],
      "execution_count": null,
      "outputs": []
    },
    {
      "cell_type": "code",
      "metadata": {
        "id": "Gm_PAfuhAzT9"
      },
      "source": [
        "x = x[['Pclass', 'Sex_encoded', 'Age', 'SibSp', 'Fare', 'Parch', 'Embarked_encoded']]"
      ],
      "execution_count": null,
      "outputs": []
    },
    {
      "cell_type": "markdown",
      "metadata": {
        "id": "zBeLHOdzJL9p"
      },
      "source": [
        "Karena datanya banyak, proses training kita bagi menjadi per 100 data. Dengan ```seed``` sebanyak 7. Ohiya, pada pelatihan ini modelnya akan di evaluasi dengan ```k-Fold Cross Validation```. Dengan menggunakan kodingan ```scoring=accuracy```, nantinya hasil output akan menampilkan hasil tiap algoritma dengan masing - masing skor akurasinya."
      ]
    },
    {
      "cell_type": "markdown",
      "metadata": {
        "id": "DmZJzHq3IwUS"
      },
      "source": [
        "**+Penjelasan**"
      ]
    },
    {
      "cell_type": "code",
      "metadata": {
        "colab": {
          "base_uri": "https://localhost:8080/"
        },
        "id": "pV9T5duSA3v-",
        "outputId": "3fc275e0-7854-400e-d353-3e5a9063e404"
      },
      "source": [
        "n_splits=100\n",
        "seed = 7 \n",
        "results = []\n",
        "for model in models:\n",
        "  kfold = model_selection.KFold(n_splits=n_splits, random_state=seed)\n",
        "  cv_results = model_selection.cross_val_score(model, x, y, cv=kfold, scoring='accuracy')\n",
        "  results.append(cv_results)"
      ],
      "execution_count": null,
      "outputs": [
        {
          "output_type": "stream",
          "text": [
            "/usr/local/lib/python3.7/dist-packages/sklearn/model_selection/_split.py:296: FutureWarning: Setting a random_state has no effect since shuffle is False. This will raise an error in 0.24. You should leave random_state to its default (None), or set shuffle=True.\n",
            "  FutureWarning\n",
            "/usr/local/lib/python3.7/dist-packages/sklearn/model_selection/_split.py:296: FutureWarning: Setting a random_state has no effect since shuffle is False. This will raise an error in 0.24. You should leave random_state to its default (None), or set shuffle=True.\n",
            "  FutureWarning\n",
            "/usr/local/lib/python3.7/dist-packages/sklearn/model_selection/_split.py:296: FutureWarning: Setting a random_state has no effect since shuffle is False. This will raise an error in 0.24. You should leave random_state to its default (None), or set shuffle=True.\n",
            "  FutureWarning\n"
          ],
          "name": "stderr"
        }
      ]
    },
    {
      "cell_type": "markdown",
      "metadata": {
        "id": "uo5Vn6l8J25T"
      },
      "source": [
        "Tampilkan hasil nya dengan library ```Pandas``` dan tampung menggunakan variables ```results```. "
      ]
    },
    {
      "cell_type": "code",
      "metadata": {
        "colab": {
          "base_uri": "https://localhost:8080/",
          "height": 407
        },
        "id": "TY59y5q3A6ce",
        "outputId": "e7d87fd9-5ee9-40e8-ad02-d2d4d33c2ba2"
      },
      "source": [
        "df_results = pd.DataFrame(results)\n",
        "df_results = df_results.T\n",
        "df_results.columns = ['Naive Bayes', 'KNN', 'RandomForest']\n",
        "df_results"
      ],
      "execution_count": null,
      "outputs": [
        {
          "output_type": "execute_result",
          "data": {
            "text/html": [
              "<div>\n",
              "<style scoped>\n",
              "    .dataframe tbody tr th:only-of-type {\n",
              "        vertical-align: middle;\n",
              "    }\n",
              "\n",
              "    .dataframe tbody tr th {\n",
              "        vertical-align: top;\n",
              "    }\n",
              "\n",
              "    .dataframe thead th {\n",
              "        text-align: right;\n",
              "    }\n",
              "</style>\n",
              "<table border=\"1\" class=\"dataframe\">\n",
              "  <thead>\n",
              "    <tr style=\"text-align: right;\">\n",
              "      <th></th>\n",
              "      <th>Naive Bayes</th>\n",
              "      <th>KNN</th>\n",
              "      <th>RandomForest</th>\n",
              "    </tr>\n",
              "  </thead>\n",
              "  <tbody>\n",
              "    <tr>\n",
              "      <th>0</th>\n",
              "      <td>0.666667</td>\n",
              "      <td>0.555556</td>\n",
              "      <td>1.000000</td>\n",
              "    </tr>\n",
              "    <tr>\n",
              "      <th>1</th>\n",
              "      <td>0.555556</td>\n",
              "      <td>0.444444</td>\n",
              "      <td>0.777778</td>\n",
              "    </tr>\n",
              "    <tr>\n",
              "      <th>2</th>\n",
              "      <td>0.444444</td>\n",
              "      <td>0.333333</td>\n",
              "      <td>0.666667</td>\n",
              "    </tr>\n",
              "    <tr>\n",
              "      <th>3</th>\n",
              "      <td>0.444444</td>\n",
              "      <td>0.666667</td>\n",
              "      <td>0.444444</td>\n",
              "    </tr>\n",
              "    <tr>\n",
              "      <th>4</th>\n",
              "      <td>0.666667</td>\n",
              "      <td>0.777778</td>\n",
              "      <td>0.555556</td>\n",
              "    </tr>\n",
              "    <tr>\n",
              "      <th>...</th>\n",
              "      <td>...</td>\n",
              "      <td>...</td>\n",
              "      <td>...</td>\n",
              "    </tr>\n",
              "    <tr>\n",
              "      <th>95</th>\n",
              "      <td>0.500000</td>\n",
              "      <td>0.625000</td>\n",
              "      <td>0.625000</td>\n",
              "    </tr>\n",
              "    <tr>\n",
              "      <th>96</th>\n",
              "      <td>0.500000</td>\n",
              "      <td>0.875000</td>\n",
              "      <td>1.000000</td>\n",
              "    </tr>\n",
              "    <tr>\n",
              "      <th>97</th>\n",
              "      <td>0.625000</td>\n",
              "      <td>0.750000</td>\n",
              "      <td>1.000000</td>\n",
              "    </tr>\n",
              "    <tr>\n",
              "      <th>98</th>\n",
              "      <td>0.750000</td>\n",
              "      <td>0.875000</td>\n",
              "      <td>0.875000</td>\n",
              "    </tr>\n",
              "    <tr>\n",
              "      <th>99</th>\n",
              "      <td>1.000000</td>\n",
              "      <td>0.875000</td>\n",
              "      <td>1.000000</td>\n",
              "    </tr>\n",
              "  </tbody>\n",
              "</table>\n",
              "<p>100 rows × 3 columns</p>\n",
              "</div>"
            ],
            "text/plain": [
              "    Naive Bayes       KNN  RandomForest\n",
              "0      0.666667  0.555556      1.000000\n",
              "1      0.555556  0.444444      0.777778\n",
              "2      0.444444  0.333333      0.666667\n",
              "3      0.444444  0.666667      0.444444\n",
              "4      0.666667  0.777778      0.555556\n",
              "..          ...       ...           ...\n",
              "95     0.500000  0.625000      0.625000\n",
              "96     0.500000  0.875000      1.000000\n",
              "97     0.625000  0.750000      1.000000\n",
              "98     0.750000  0.875000      0.875000\n",
              "99     1.000000  0.875000      1.000000\n",
              "\n",
              "[100 rows x 3 columns]"
            ]
          },
          "metadata": {
            "tags": []
          },
          "execution_count": 43
        }
      ]
    },
    {
      "cell_type": "markdown",
      "metadata": {
        "id": "6ViS2lXtKEz4"
      },
      "source": [
        "Bagaimana akurasinya ? Oke, kita mendapatkan model dengan `RandomForest` menghasilkan akurasi tertinggi yaitu 100%. Maka model itulah yang akan kita pakai untuk melakukan prediksi."
      ]
    },
    {
      "cell_type": "code",
      "metadata": {
        "colab": {
          "base_uri": "https://localhost:8080/",
          "height": 288
        },
        "id": "y2BPNG57BAbv",
        "outputId": "28474734-7dbc-4ce3-ef91-cfb25bd30416"
      },
      "source": [
        "df_results.describe()"
      ],
      "execution_count": null,
      "outputs": [
        {
          "output_type": "execute_result",
          "data": {
            "text/html": [
              "<div>\n",
              "<style scoped>\n",
              "    .dataframe tbody tr th:only-of-type {\n",
              "        vertical-align: middle;\n",
              "    }\n",
              "\n",
              "    .dataframe tbody tr th {\n",
              "        vertical-align: top;\n",
              "    }\n",
              "\n",
              "    .dataframe thead th {\n",
              "        text-align: right;\n",
              "    }\n",
              "</style>\n",
              "<table border=\"1\" class=\"dataframe\">\n",
              "  <thead>\n",
              "    <tr style=\"text-align: right;\">\n",
              "      <th></th>\n",
              "      <th>Naive Bayes</th>\n",
              "      <th>KNN</th>\n",
              "      <th>RandomForest</th>\n",
              "    </tr>\n",
              "  </thead>\n",
              "  <tbody>\n",
              "    <tr>\n",
              "      <th>count</th>\n",
              "      <td>100.000000</td>\n",
              "      <td>100.000000</td>\n",
              "      <td>100.000000</td>\n",
              "    </tr>\n",
              "    <tr>\n",
              "      <th>mean</th>\n",
              "      <td>0.689028</td>\n",
              "      <td>0.708889</td>\n",
              "      <td>0.808750</td>\n",
              "    </tr>\n",
              "    <tr>\n",
              "      <th>std</th>\n",
              "      <td>0.160544</td>\n",
              "      <td>0.147157</td>\n",
              "      <td>0.121191</td>\n",
              "    </tr>\n",
              "    <tr>\n",
              "      <th>min</th>\n",
              "      <td>0.333333</td>\n",
              "      <td>0.333333</td>\n",
              "      <td>0.444444</td>\n",
              "    </tr>\n",
              "    <tr>\n",
              "      <th>25%</th>\n",
              "      <td>0.555556</td>\n",
              "      <td>0.555556</td>\n",
              "      <td>0.777778</td>\n",
              "    </tr>\n",
              "    <tr>\n",
              "      <th>50%</th>\n",
              "      <td>0.666667</td>\n",
              "      <td>0.750000</td>\n",
              "      <td>0.777778</td>\n",
              "    </tr>\n",
              "    <tr>\n",
              "      <th>75%</th>\n",
              "      <td>0.777778</td>\n",
              "      <td>0.777778</td>\n",
              "      <td>0.888889</td>\n",
              "    </tr>\n",
              "    <tr>\n",
              "      <th>max</th>\n",
              "      <td>1.000000</td>\n",
              "      <td>1.000000</td>\n",
              "      <td>1.000000</td>\n",
              "    </tr>\n",
              "  </tbody>\n",
              "</table>\n",
              "</div>"
            ],
            "text/plain": [
              "       Naive Bayes         KNN  RandomForest\n",
              "count   100.000000  100.000000    100.000000\n",
              "mean      0.689028    0.708889      0.808750\n",
              "std       0.160544    0.147157      0.121191\n",
              "min       0.333333    0.333333      0.444444\n",
              "25%       0.555556    0.555556      0.777778\n",
              "50%       0.666667    0.750000      0.777778\n",
              "75%       0.777778    0.777778      0.888889\n",
              "max       1.000000    1.000000      1.000000"
            ]
          },
          "metadata": {
            "tags": []
          },
          "execution_count": 44
        }
      ]
    },
    {
      "cell_type": "markdown",
      "metadata": {
        "id": "0x2rWjMjKUmp"
      },
      "source": [
        "# **Melakukan Prediksi dengan Model yang Terbaik**"
      ]
    },
    {
      "cell_type": "code",
      "metadata": {
        "id": "6wPsoqccBDaJ"
      },
      "source": [
        "model = RandomForestClassifier()"
      ],
      "execution_count": null,
      "outputs": []
    },
    {
      "cell_type": "code",
      "metadata": {
        "id": "LCOwRVyNBGeY"
      },
      "source": [
        "rf = model.fit(x, y)"
      ],
      "execution_count": null,
      "outputs": []
    },
    {
      "cell_type": "code",
      "metadata": {
        "colab": {
          "base_uri": "https://localhost:8080/"
        },
        "id": "M5tgFSNqBLAC",
        "outputId": "34057478-a5e6-44c8-f80c-728d4a56d263"
      },
      "source": [
        "rf.predict_proba(x[:10])"
      ],
      "execution_count": null,
      "outputs": [
        {
          "output_type": "execute_result",
          "data": {
            "text/plain": [
              "array([[0.84733333, 0.15266667],\n",
              "       [0.01      , 0.99      ],\n",
              "       [0.15      , 0.85      ],\n",
              "       [0.        , 1.        ],\n",
              "       [1.        , 0.        ],\n",
              "       [0.98705556, 0.01294444],\n",
              "       [0.89      , 0.11      ],\n",
              "       [0.89      , 0.11      ],\n",
              "       [0.22      , 0.78      ],\n",
              "       [0.03      , 0.97      ]])"
            ]
          },
          "metadata": {
            "tags": []
          },
          "execution_count": 47
        }
      ]
    },
    {
      "cell_type": "markdown",
      "metadata": {
        "id": "8xtx9bs7KyVd"
      },
      "source": [
        "# **Referensi**\n",
        "\n",
        "\n",
        "\n",
        "*   Bootcamp Machine Learning by **Data Synthesis**\n",
        "* https://www.kaggle.com/c/titanic/data\n",
        "*   https://medium.com/purwadhikaconnect/metode-feature-importance-dalam-data-science-yang-perlu-kamu-ketahui-6b4f35db6476\n",
        "\n",
        "\n"
      ]
    }
  ]
}